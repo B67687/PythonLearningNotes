{
 "cells": [
  {
   "cell_type": "markdown",
   "id": "df2c597e-d311-499a-b3cf-dc03f1854435",
   "metadata": {},
   "source": [
    "## **Git Checkout - Switching Branches and Restoring Files**\n",
    "\n",
    "`git checkout` is a versatile Git command used for two primary purposes:\n",
    "\n",
    "**1. Switching Branches:**\n",
    "\n",
    "* `git checkout <branch_name>`: This command switches your working directory to the specified branch.\n",
    "* It updates your files to match the branch's state and moves the HEAD pointer.\n",
    "* Example: `git checkout develop`\n",
    "\n",
    "**2. Restoring Files:**\n",
    "\n",
    "* `git checkout -- <file_path>`: This command discards changes in your working directory and restores the specified file to its last committed state.\n",
    "* The `--` is crucial; it acts as a delimiter to distinguish file paths from branch names, especially when they might share names.\n",
    "* Example: `git checkout -- my_document.txt`\n",
    "\n",
    "**Key Takeaways:**\n",
    "\n",
    "* `git checkout` is fundamental for navigating your Git repository.\n",
    "* The `--` delimiter is essential for correctly using `git checkout` to restore files.\n",
    "* Always be mindful of the context when using `git checkout`, as its behavior varies significantly."
   ]
  }
 ],
 "metadata": {
  "kernelspec": {
   "display_name": "Python 3 (ipykernel)",
   "language": "python",
   "name": "python3"
  },
  "language_info": {
   "codemirror_mode": {
    "name": "ipython",
    "version": 3
   },
   "file_extension": ".py",
   "mimetype": "text/x-python",
   "name": "python",
   "nbconvert_exporter": "python",
   "pygments_lexer": "ipython3",
   "version": "3.12.9"
  }
 },
 "nbformat": 4,
 "nbformat_minor": 5
}
