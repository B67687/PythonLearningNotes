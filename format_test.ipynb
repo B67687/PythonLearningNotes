{
 "cells": [
  {
   "cell_type": "markdown",
   "id": "592b2ea9-daae-4104-bbd3-3c9beef204fc",
   "metadata": {},
   "source": [
    "**This is bold text using asterisks.**\n",
    "\n",
    "__This is bold text using underscores.__"
   ]
  }
 ],
 "metadata": {
  "kernelspec": {
   "display_name": "Python 3 (ipykernel)",
   "language": "python",
   "name": "python3"
  },
  "language_info": {
   "codemirror_mode": {
    "name": "ipython",
    "version": 3
   },
   "file_extension": ".py",
   "mimetype": "text/x-python",
   "name": "python",
   "nbconvert_exporter": "python",
   "pygments_lexer": "ipython3",
   "version": "3.12.9"
  }
 },
 "nbformat": 4,
 "nbformat_minor": 5
}
