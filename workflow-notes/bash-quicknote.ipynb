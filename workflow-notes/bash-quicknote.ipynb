{
 "cells": [
  {
   "cell_type": "markdown",
   "id": "0c1923ec-3b9d-443d-bc91-c9a0c08faac7",
   "metadata": {
    "jp-MarkdownHeadingCollapsed": true
   },
   "source": [
    "# **Bash - The Programmer's Shell**\n",
    "\n",
    "* Bash is the **default shell on most Linux and macOS systems**, and is readily available on Windows via Git Bash or WSL, making it a highly **cross-platform skill** for programmers.\n",
    "    * Bash (Bourne Again SHell) is a widely used **command-line interpreter** (shell) originating from Unix systems in 1989.\n",
    "    * Bash provides a **text-based interface** to interact with the operating system, enabling tasks like file/directory management, program execution, and system automation.\n",
    "    * Bash is **POSIX-compliant**, ensuring script portability across Unix-like systems (Linux, macOS, etc.).\n",
    "\n",
    "## **Why is this Useful?**\n",
    "\n",
    "*   **Efficiently manage files and directories:**\n",
    "Quickly navigate, create, delete, copy, and manipulate files and folders directly from the command line, bypassing graphical interfaces for many common tasks.\n",
    "\n",
    "*   **Automate repetitive tasks:**\n",
    "Write Bash scripts to automate build processes, software deployments, system administration, and various development workflows, saving time and reducing errors.\n",
    "\n",
    "*   **Work effectively with remote servers (especially Linux):**\n",
    "Bash is the standard interface for interacting with remote servers, which are the backbone of web applications and many software systems.  Understanding Bash is essential for server administration, deployment, and maintenance.\n",
    "\n",
    "*   **Understand and utilize countless command-line tools:**\n",
    "A vast ecosystem of powerful command-line utilities (like `grep`, `awk`, `sed`, `curl`, `git`, and many programming language tools) are designed to be used within Bash and similar shells.  Bash is the gateway to this powerful toolbox.\n",
    "\n",
    "*   **Increase your cross-platform skills:**\n",
    "Bash knowledge is transferable across Linux, macOS, and even Windows (via Git Bash/WSL), making you a more versatile and adaptable developer, regardless of your primary operating system.\n",
    "\n",
    "### **Example**\n",
    "```bash\n",
    "pwd                   # Print Working Directory\n",
    "ls                    # List directory contents\n",
    "cd directory_name     # Change directory\n",
    "mkdir new_directory   # Create new directory\n",
    "rmdir empty_directory # Remove empty directory\n",
    "touch new_file.txt    # Create empty file\n",
    "rm file.txt           # Remove file\n",
    "```"
   ]
  }
 ],
 "metadata": {
  "kernelspec": {
   "display_name": "Python 3 (ipykernel)",
   "language": "python",
   "name": "python3"
  },
  "language_info": {
   "codemirror_mode": {
    "name": "ipython",
    "version": 3
   },
   "file_extension": ".py",
   "mimetype": "text/x-python",
   "name": "python",
   "nbconvert_exporter": "python",
   "pygments_lexer": "ipython3",
   "version": "3.12.9"
  }
 },
 "nbformat": 4,
 "nbformat_minor": 5
}
