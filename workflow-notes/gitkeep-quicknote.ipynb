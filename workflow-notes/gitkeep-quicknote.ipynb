{
 "cells": [
  {
   "cell_type": "markdown",
   "id": "0c1923ec-3b9d-443d-bc91-c9a0c08faac7",
   "metadata": {},
   "source": [
    "# **.gitkeep - Track Empty Directory Structure in Git**\n",
    "\n",
    "* Git **only tracks files and the directories that contain them**, to allow for explicit folder tracking, `.gitkeep` comes into play\n",
    "    * `.gitkeep` is a **convention** to **force Git to track directories** by using a placeholder file\n",
    "    * `.gitkeep` is **not a special Git file** - it's just a regular file, conventionally named `.gitkeep`\n",
    "\n",
    "## **Why is this Useful?**\n",
    "\n",
    "*   **Preserve Intentional Project Directory Structure in Version Control:**\n",
    "In software projects, a well-defined directory structure is intentionally created for organization and consistency.\n",
    "\n",
    "*   **Make Directory Structure Intentional and Persistent in Git:**\n",
    "`.gitkeep` provides a mechanism to *explicitly* include your intended directory structure as part of your project's version control. Thereby making it easier to track folder creation separately from the rest.\n",
    "\n",
    "### **Example**\n",
    "\n",
    "```bash\n",
    "mkdir empty_folder             # Create an empty directory\n",
    "touch empty_folder/.gitkeep    # Create .gitkeep directly in the new directory\n",
    "git status                     # Check staging status\n",
    "git add empty_folder/.gitkeep  # Stage .gitkeep\n",
    "git commit -m \"feat: Add .gitkeep to preserve 'empty_folder' structure\" # Commit\n",
    "git push                       # Push\n",
    "```"
   ]
  }
 ],
 "metadata": {
  "kernelspec": {
   "display_name": "Python 3 (ipykernel)",
   "language": "python",
   "name": "python3"
  },
  "language_info": {
   "codemirror_mode": {
    "name": "ipython",
    "version": 3
   },
   "file_extension": ".py",
   "mimetype": "text/x-python",
   "name": "python",
   "nbconvert_exporter": "python",
   "pygments_lexer": "ipython3",
   "version": "3.12.9"
  }
 },
 "nbformat": 4,
 "nbformat_minor": 5
}
