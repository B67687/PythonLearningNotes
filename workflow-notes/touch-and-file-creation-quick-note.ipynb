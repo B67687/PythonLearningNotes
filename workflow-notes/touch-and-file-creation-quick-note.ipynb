{
 "cells": [
  {
   "cell_type": "markdown",
   "id": "4f6e057d-fd31-4407-91e5-1301753571ac",
   "metadata": {},
   "source": [
    "# **touch - A Closer Look into Scope Utility**\n",
    "* `touch` is a shell command used in BaSH (Bourne Again SHell) updating timestamps of current files and creates an empty file if no file is found\n",
    "    * It is thus used by many developers directly to create empty files\n",
    "\n",
    "## **Insights into the utility scope of touch in Bash**\n",
    "So today I learnt that some files are quite special in the case that they have different structures and are not easily generated outside the intended environment they are generated from, while some other things like `.txt` files can be created empty and still be read. \n",
    "* So there is some usability with `touch` but it definitely is not a super power for creating files as I had naively thought. \n",
    "* In hindsight it is quite obvious that some files are created with their own unique structures for different purposes, so the real lesson here is that `touch` is no superpower, it is not designed to create any file.\n",
    "* `touch` is still just a simple command-line prompt that updates the last time a file was interacted with, and **as a side effect** creates an empty file if it doesn't exist\n",
    "\n",
    "## **Conclusion**\n",
    "* `.ipynb` files are structured JSON files, not just simple files.\n",
    "* `touch` creates empty files, which are not valid `.ipynb` files.\n",
    "Use Jupyter Notebook's interface (\"File -> New Notebook\") to create `.ipynb files` correctly.\n",
    "* `touch` has limited use for creating files with content; it's more for basic file management."
   ]
  }
 ],
 "metadata": {
  "kernelspec": {
   "display_name": "Python 3 (ipykernel)",
   "language": "python",
   "name": "python3"
  },
  "language_info": {
   "codemirror_mode": {
    "name": "ipython",
    "version": 3
   },
   "file_extension": ".py",
   "mimetype": "text/x-python",
   "name": "python",
   "nbconvert_exporter": "python",
   "pygments_lexer": "ipython3",
   "version": "3.12.9"
  }
 },
 "nbformat": 4,
 "nbformat_minor": 5
}
